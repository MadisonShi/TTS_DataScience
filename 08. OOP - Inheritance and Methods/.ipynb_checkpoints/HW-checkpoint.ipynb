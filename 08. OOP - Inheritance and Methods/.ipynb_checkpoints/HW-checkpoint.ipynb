{
 "cells": [
  {
   "cell_type": "markdown",
   "metadata": {},
   "source": [
    "You are given two classes, Person and Student, where Person is the base class and Student is the derived class. Completed code for Person and a declaration for Student are provided for you in the editor. Observe that Student inherits all the properties of Person.\n",
    "\n",
    "Complete the Student class by writing the following:\n",
    "A Student class constructor, which has 4 parameters:\n",
    "- A string, firstName\n",
    "- A string, lastName\n",
    "- An integer, id\n",
    "An integer array (or vector) of test scores, scores\n",
    "\n",
    "A char calculate() method that calculates a Student object's average and returns the grade character representative of their calculated average:\n",
    "A | 90-100\n",
    "B | 80-89\n",
    "C | 70-79\n",
    "D | 60-69\n",
    "F | <60"
   ]
  },
  {
   "cell_type": "code",
   "execution_count": 7,
   "metadata": {},
   "outputs": [
    {
     "name": "stdout",
     "output_type": "stream",
     "text": [
      "Enter a list of space-separated scores:90 67 10\n",
      "Madison Shi Student ID 45340533, you got an F.\n"
     ]
    }
   ],
   "source": [
    "from statistics import mean \n",
    "\n",
    "class Person:\n",
    "    def __init__(self, firstName, lastName):\n",
    "        self.firstName = firstName\n",
    "        self.lastName = lastName\n",
    "    \n",
    "class Student(Person):\n",
    "    def __init__(self, firstName, lastName, studentID):\n",
    "        super().__init__(firstName, lastName)\n",
    "        self.studentID = studentID\n",
    "        self.scores = []\n",
    "    \n",
    "    def calculate(self):\n",
    "        scores = input(\"Enter a list of space-separated scores:\")\n",
    "        scores = list(map(int, scores.split()))\n",
    "        \n",
    "        finalScore = round(mean(scores))\n",
    "            \n",
    "        if (finalScore >= 90 and finalScore <= 100): #can use 100 >= finalScore >= 90\n",
    "            print(self.firstName + \" \" + self.lastName + \" \" + \"Student ID \" + str(self.studentID) + \", you got an A.\")\n",
    "        elif (finalScore >= 80 and finalScore <= 89):\n",
    "            print(self.firstName + \" \" + self.lastName + \" \" + \"Student ID \" + str(self.studentID) + \", you got an B.\")\n",
    "        elif (finalScore >= 70 and finalScore <= 79):\n",
    "            print(self.firstName + \" \" + self.lastName + \" \" + \"Student ID \" + str(self.studentID) + \", you got an C.\")\n",
    "        elif (finalScore >= 60 and finalScore <= 69):\n",
    "            print(self.firstName + \" \" + self.lastName + \" \" + \"Student ID \" + str(self.studentID) + \", you got an D.\")\n",
    "        elif (finalScore < 60):\n",
    "            print(self.firstName + \" \" + self.lastName + \" \" + \"Student ID \" + str(self.studentID) + \", you got an F.\")\n",
    "        else:\n",
    "            print(self.firstName + \" \" + self.lastName + \" \" + \"Student ID \" + str(self.studentID) + \", your average is odd.\")\n",
    "    \n",
    "    \n",
    "testS = Student(\"Madison\", \"Shi\", 45340533)\n",
    "testS.calculate()"
   ]
  },
  {
   "cell_type": "code",
   "execution_count": null,
   "metadata": {},
   "outputs": [],
   "source": []
  }
 ],
 "metadata": {
  "kernelspec": {
   "display_name": "Python 3",
   "language": "python",
   "name": "python3"
  },
  "language_info": {
   "codemirror_mode": {
    "name": "ipython",
    "version": 3
   },
   "file_extension": ".py",
   "mimetype": "text/x-python",
   "name": "python",
   "nbconvert_exporter": "python",
   "pygments_lexer": "ipython3",
   "version": "3.8.3"
  }
 },
 "nbformat": 4,
 "nbformat_minor": 4
}
