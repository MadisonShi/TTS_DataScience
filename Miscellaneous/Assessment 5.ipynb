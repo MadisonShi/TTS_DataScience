{
 "cells": [
  {
   "cell_type": "code",
   "execution_count": 8,
   "metadata": {},
   "outputs": [
    {
     "name": "stdout",
     "output_type": "stream",
     "text": [
      "None\n"
     ]
    }
   ],
   "source": [
    "import math\n",
    "import os\n",
    "import random\n",
    "import re\n",
    "import sys\n",
    "\n",
    "\n",
    "\n",
    "#\n",
    "# Complete the 'getLargestString' function below.\n",
    "#\n",
    "# The function is expected to return a STRING.\n",
    "# The function accepts following parameters:\n",
    "#  1. STRING s\n",
    "#  2. INTEGER k\n",
    "#\n",
    "\n",
    "# def getLargestString(s, k):\n",
    "#     l = sorted(s).reverse()\n",
    "#     newL = [l[0]]\n",
    "#     count = 1\n",
    "    \n",
    "#     for i in range(1, len(l)):\n",
    "#         if (count < k):\n",
    "#             newL.add(l[i])\n",
    "#             if(l[i] != newL[i-1]):\n",
    "#                 count = 0\n",
    "#             else:\n",
    "#                 count+=1\n",
    "#         else:\n",
    "#             if(re.search(^i)):\n",
    "#                 newIndex = re.search(^i)\n",
    "#                 tempVal = l[i]\n",
    "#                 l[i] = l[re.search(^i)]\n",
    "#                 l[newIndex] = tempVal\n",
    "#                 newL.add(l[i])\n",
    "#             else:\n",
    "#                 return newL\n",
    "            \n",
    "        \n",
    "#     return newL\n",
    "    \n",
    "\n",
    "# if __name__ == '__main__':\n",
    "#     fptr = open(os.environ['OUTPUT_PATH'], 'w')\n",
    "\n",
    "#     s = input()\n",
    "\n",
    "#     k = int(input().strip())\n",
    "\n",
    "#     result = getLargestString(s, k)\n",
    "\n",
    "#     fptr.write(result + '\\n')\n",
    "\n",
    "#     fptr.close()\n",
    "\n",
    "varChar = 'i'\n",
    "testString = \"never like something\"\n",
    "print(re.search(\"^\"+varChar, testString))"
   ]
  },
  {
   "cell_type": "code",
   "execution_count": null,
   "metadata": {},
   "outputs": [],
   "source": []
  }
 ],
 "metadata": {
  "kernelspec": {
   "display_name": "Python 3",
   "language": "python",
   "name": "python3"
  },
  "language_info": {
   "codemirror_mode": {
    "name": "ipython",
    "version": 3
   },
   "file_extension": ".py",
   "mimetype": "text/x-python",
   "name": "python",
   "nbconvert_exporter": "python",
   "pygments_lexer": "ipython3",
   "version": "3.8.3"
  }
 },
 "nbformat": 4,
 "nbformat_minor": 4
}
