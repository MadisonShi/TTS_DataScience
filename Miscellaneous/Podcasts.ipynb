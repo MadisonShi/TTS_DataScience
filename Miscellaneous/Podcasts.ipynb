{
 "cells": [
  {
   "cell_type": "markdown",
   "metadata": {},
   "source": [
    "# Podcasts and Links\n",
    "\n",
    "1. Reply All - The Founder https://gimletmedia.com/shows/reply-all/dvhd9k/136-the-founder\n",
    "\n",
    "2. Towards Data Science - Goku Mohandas https://anchor.fm/towardsdatascience/episodes/47--Goku-Mohandas---Industry-research-and-how-to-show-off-your-projects-efgqbn\n",
    " - importance of creating projects with demos\n",
    " - use resources like Made with ML, Sharpest Minds\n",
    " - look into machine learning conceps on ML"
   ]
  }
 ],
 "metadata": {
  "kernelspec": {
   "display_name": "Python 3",
   "language": "python",
   "name": "python3"
  },
  "language_info": {
   "codemirror_mode": {
    "name": "ipython",
    "version": 3
   },
   "file_extension": ".py",
   "mimetype": "text/x-python",
   "name": "python",
   "nbconvert_exporter": "python",
   "pygments_lexer": "ipython3",
   "version": "3.8.3"
  }
 },
 "nbformat": 4,
 "nbformat_minor": 4
}
