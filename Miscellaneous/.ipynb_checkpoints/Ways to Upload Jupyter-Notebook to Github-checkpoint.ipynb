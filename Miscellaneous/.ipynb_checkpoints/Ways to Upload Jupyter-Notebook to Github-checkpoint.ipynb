{
 "cells": [
  {
   "cell_type": "markdown",
   "metadata": {},
   "source": [
    "# Ways to Upload Jupyter-Notebook to Github\n",
    "\n",
    "## 1. Through terminal\n",
    "\n",
    "Through terminal, cd into folder containing Jupyter-Notebook file. Then enter following commands (assuming folder already linked with Github)\n",
    "    - git add --all\n",
    "    - git commit -m \"message\"\n",
    "    - git push\n",
    "    \n",
    "\n",
    "## 2. Through Github webpage\n",
    "\n",
    "Click into desired repo. Click into desired folder. Click \"Add File\" then click \"Upload files\""
   ]
  }
 ],
 "metadata": {
  "kernelspec": {
   "display_name": "Python 3",
   "language": "python",
   "name": "python3"
  },
  "language_info": {
   "codemirror_mode": {
    "name": "ipython",
    "version": 3
   },
   "file_extension": ".py",
   "mimetype": "text/x-python",
   "name": "python",
   "nbconvert_exporter": "python",
   "pygments_lexer": "ipython3",
   "version": "3.8.3"
  }
 },
 "nbformat": 4,
 "nbformat_minor": 4
}
