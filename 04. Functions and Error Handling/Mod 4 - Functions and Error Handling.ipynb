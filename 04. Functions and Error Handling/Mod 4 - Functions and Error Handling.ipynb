{
 "cells": [
  {
   "cell_type": "markdown",
   "metadata": {},
   "source": [
    "# Mod 4 - Functions and Error Handling\n",
    "\n",
    "## Resources\n",
    "\n",
    "Defining and Using Functions https://github.com/jakevdp/WhirlwindTourOfPython/blob/6f1daf714fe52a8dde6a288674ba46a7feed8816/08-Defining-Functions.ipynb\n",
    "\n",
    "Programming with Mosh - Functions and Error Handling https://www.youtube.com/watch?v=_uQrJ0TkZlc\n",
    "\n",
    "### Functions\n",
    "\n",
    "#### Print Functionality\n",
    "\n",
    "sep=\"something\" - what separates the print terms\n",
    "\n",
    "ie print(1, 2, 3, sep=\"--\") returns 1--2--3\n",
    "\n",
    "#### Defining Functions\n",
    "\n",
    "def functionName(params):\n",
    "    things\n",
    "    return whatyouwant\n",
    "\n",
    "\n",
    "YOU NEED 2 LINES BETWEEN A FUNCTION DEFINITION AND THE REST\n",
    "\n",
    "Can return any Python object\n",
    "Multiple return values are put into tuples, indicated by commas"
   ]
  },
  {
   "cell_type": "code",
   "execution_count": 1,
   "metadata": {},
   "outputs": [],
   "source": [
    "def real_img_conj(val):\n",
    "    return val.real, val.imag, val.conjugate()\n",
    "\n",
    "r, i, c = real_img_conj(3+4j)"
   ]
  },
  {
   "cell_type": "markdown",
   "metadata": {},
   "source": [
    "#### Default Argument Values\n",
    "\n",
    "def fibonacci(N, a=0, b=1):\n",
    "\n",
    "can go in different order but call it out\n",
    "ie fibonacci(10, b=3, a=1)\n",
    "\n",
    "#### Flexible Argument - *varname or **varname\n",
    "\n",
    "Unknown number of args passed\n",
    "\n",
    "single * - it expands as a sequence\n",
    "double ** - it expands as a dictionary"
   ]
  },
  {
   "cell_type": "code",
   "execution_count": 5,
   "metadata": {},
   "outputs": [
    {
     "name": "stdout",
     "output_type": "stream",
     "text": [
      "args = (1, 2, 3)\n",
      "kwargs = {'a': 4, 'b': 5}\n",
      "args = ('a',)\n",
      "kwargs = {'keyword': 2}\n"
     ]
    }
   ],
   "source": [
    "def catch_all(*args, **kwargs):\n",
    "    print(\"args =\", args)\n",
    "    print(\"kwargs =\", kwargs)\n",
    "\n",
    "catch_all(1,2,3, a=4, b=5)\n",
    "catch_all('a', keyword=2)"
   ]
  },
  {
   "cell_type": "markdown",
   "metadata": {},
   "source": [
    "#### Lambda / Anonymous Functions \n",
    "\n",
    "Purpose: 1 time function that will not be used again\n",
    "\n",
    "Use anon functions because everything is an object\n",
    "Therefore, functions can also be passed on as arguments in functions\n",
    "\n",
    "Returning items into a function - careful to not overuse"
   ]
  },
  {
   "cell_type": "code",
   "execution_count": 6,
   "metadata": {},
   "outputs": [
    {
     "data": {
      "text/plain": [
       "3"
      ]
     },
     "execution_count": 6,
     "metadata": {},
     "output_type": "execute_result"
    }
   ],
   "source": [
    "add = lambda x, y: x + y\n",
    "add(1,2)\n",
    "\n",
    "# same as\n",
    "# def add(x,y):\n",
    "#   return x+y"
   ]
  },
  {
   "cell_type": "markdown",
   "metadata": {},
   "source": [
    "A possible functionality:\n",
    "\n",
    "Using this to sort dictionaries that are typically unordered\n",
    "\n",
    "sorted(dictionary, key=lambda item: item[\"name\"])\n",
    "\n",
    "key function is returning values of all keys named name; therefore, we are sorting a dictionary on the name\n",
    "\n",
    "\n",
    "\n",
    "## Errors and Exceptions\n",
    "\n",
    "3 types of errors: syntax (code not valid Python), runtime (code fails to execute), semantic (logic error; not getting what you want)\n",
    "\n",
    "\n",
    "#### Runtime Errors\n",
    "\n",
    "- NameError: undefined variables\n",
    "- TypeError: combining incompatable types\n",
    "- ZeroDivisionError: dividing by zero\n",
    "- IndexError: out of range index\n",
    "\n",
    "\n",
    "#### Catching Exceptions: try and except\n"
   ]
  },
  {
   "cell_type": "code",
   "execution_count": 7,
   "metadata": {},
   "outputs": [
    {
     "name": "stdout",
     "output_type": "stream",
     "text": [
      "this gets executed first\n"
     ]
    }
   ],
   "source": [
    "try:\n",
    "    print(\"this gets executed first\")\n",
    "except:\n",
    "    print(\"this only gets executed if there's an error - for any error\")"
   ]
  },
  {
   "cell_type": "markdown",
   "metadata": {},
   "source": []
  }
 ],
 "metadata": {
  "kernelspec": {
   "display_name": "Python 3",
   "language": "python",
   "name": "python3"
  },
  "language_info": {
   "codemirror_mode": {
    "name": "ipython",
    "version": 3
   },
   "file_extension": ".py",
   "mimetype": "text/x-python",
   "name": "python",
   "nbconvert_exporter": "python",
   "pygments_lexer": "ipython3",
   "version": "3.8.3"
  }
 },
 "nbformat": 4,
 "nbformat_minor": 4
}
