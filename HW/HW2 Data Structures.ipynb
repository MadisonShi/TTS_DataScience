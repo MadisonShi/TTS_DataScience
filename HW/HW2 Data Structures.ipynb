{
 "cells": [
  {
   "cell_type": "markdown",
   "metadata": {},
   "source": [
    "# Data Structures Exercises\n",
    "Complete the following exercises and upload a separate Python script for each exercise:\n",
    "\n",
    "#### Exercise 1\n",
    "In mathematics, the quadratic equation ax2+bx+c=0 can be solved with the formula x=−b±b2−4ac√2a.\n",
    "\n",
    "Write a function solve_quadratic, that returns both solutions of a generic quadratic as a pair (2-tuple) when the coefficients are given as parameters. It should work like this:\n",
    "\n",
    "print(solve_quadratic(1,-3,2))\n",
    "(2.0,1.0)\n",
    "print(solve_quadratic(1,2,1))\n",
    "(-1.0,-1.0)\n",
    "\n",
    "You may want to use the math.sqrt function from the math module in your solution. Test that your function works in the main function!"
   ]
  },
  {
   "cell_type": "code",
   "execution_count": 7,
   "metadata": {},
   "outputs": [
    {
     "name": "stdout",
     "output_type": "stream",
     "text": [
      "(-1.0, -1.0)\n"
     ]
    }
   ],
   "source": [
    "import math\n",
    "\n",
    "def solve_quadratic(a, b, c):\n",
    "    \n",
    "    add_sol = (-b + math.sqrt(b ** 2 - (4 * a * c))) / (2 * a)\n",
    "    sub_sol = (-b - math.sqrt(b ** 2 - (4 * a * c))) / (2 * a)\n",
    "    \n",
    "    sol = (add_sol, sub_sol)\n",
    "    return sol\n",
    "    \n",
    "    \n",
    "\n",
    "print(solve_quadratic(1,2,1))"
   ]
  },
  {
   "cell_type": "markdown",
   "metadata": {},
   "source": [
    "#### Exercise 2\n",
    "\n",
    "Get a space-separated list of integers from the user, create a tuple of those integers. Then compute and print the result of hash(tuple).\n",
    "\n",
    "Documentation: hash():"
   ]
  },
  {
   "cell_type": "code",
   "execution_count": 7,
   "metadata": {},
   "outputs": [
    {
     "name": "stdout",
     "output_type": "stream",
     "text": [
      "Please enter a list of space separated integers: 1 2 3\n",
      "(1, 2, 3)\n",
      "529344067295497451\n"
     ]
    }
   ],
   "source": [
    "#listOne = input(\"Please enter a list of space separated integers: \").split() #splits input by spaces into the map function\n",
    "#tupleOne = tuple(input(\"Please enter a list of space separated integers: \").split()) #splits input by spaces into the map function, returning strings right now\n",
    "tupleOne = tuple(map(int, input(\"Please enter a list of space separated integers: \").split()))\n",
    "print(tupleOne)\n",
    "print(hash(tupleOne))\n",
    "\n",
    "#Marissa's solution\n",
    "#listOne = list(map(int, input(\"Please enter a list of space separated integers: \").split()))\n",
    "#tupleOne = tuple(listOne)\n",
    "#print(tupleOne)\n",
    "#print(hash(tupleOne))"
   ]
  },
  {
   "cell_type": "markdown",
   "metadata": {},
   "source": [
    "#### Exercise 3\n",
    "\n",
    "Take the following two lists. Create a third list by picking a odd-index elements from the first list and even-index elements from the second."
   ]
  },
  {
   "cell_type": "code",
   "execution_count": 9,
   "metadata": {},
   "outputs": [
    {
     "name": "stdout",
     "output_type": "stream",
     "text": [
      "[6, 12, 18, 4, 12, 20, 28]\n"
     ]
    }
   ],
   "source": [
    "listOne = [3, 6, 9, 12, 15, 18, 21] \n",
    "listTwo = [4, 8, 12, 16, 20, 24, 28]\n",
    "\n",
    "listThree = listOne[1::2] #index starting at 1 therefore need 6 not 3\n",
    "listThree += listTwo[::2]\n",
    "\n",
    "print(listThree)"
   ]
  },
  {
   "cell_type": "markdown",
   "metadata": {},
   "source": [
    "#### Exercise 4\n",
    "\n",
    "Take the following list. Slice it into three equal chunks and reverse each list."
   ]
  },
  {
   "cell_type": "code",
   "execution_count": 12,
   "metadata": {
    "scrolled": true
   },
   "outputs": [
    {
     "name": "stdout",
     "output_type": "stream",
     "text": [
      "[8, 45, 11] [12, 14, 23] [89, 45, 78]\n"
     ]
    }
   ],
   "source": [
    "sampleList = [11, 45, 8, 23, 14, 12, 78, 45, 89]\n",
    "\n",
    "listOne = sampleList[:3]\n",
    "listTwo = sampleList[3:6]\n",
    "listThree = sampleList[6:]\n",
    "\n",
    "print(listOne[::-1], listTwo[::-1], listThree[::-1])"
   ]
  },
  {
   "cell_type": "markdown",
   "metadata": {},
   "source": [
    "#### Exercise 5\n",
    "\n",
    "Iterate through a given list and check if a given element already exists in a dictionary as a key’s value. If not, delete it from the list."
   ]
  },
  {
   "cell_type": "code",
   "execution_count": 45,
   "metadata": {},
   "outputs": [
    {
     "name": "stdout",
     "output_type": "stream",
     "text": [
      "[47, 69, 76, 97]\n"
     ]
    }
   ],
   "source": [
    "rollNumber = [47, 64, 69, 37, 76, 83, 95, 97]\n",
    "sampleDict = {'Zach':47, 'Emma':69, 'Kelly':76, 'Jason':97}\n",
    "sampleList = list(sampleDict.values())\n",
    "keepList = []\n",
    "\n",
    "for i in rollNumber:\n",
    "    if i in sampleList:\n",
    "        keepList.append(i)\n",
    "        \n",
    "rollNumber = keepList\n",
    "\n",
    "print(rollNumber)\n",
    "\n",
    "#tracking = []\n",
    "#for i in rollNumber:\n",
    "#    if i not in sampleDict.values():\n",
    "#        tracking.append(i)\n",
    "#for j in tracking:\n",
    "#    if j in rollNumber:\n",
    "#        rollNumber.remove(j)\n",
    "#print(rollNumber)"
   ]
  }
 ],
 "metadata": {
  "kernelspec": {
   "display_name": "Python 3",
   "language": "python",
   "name": "python3"
  },
  "language_info": {
   "codemirror_mode": {
    "name": "ipython",
    "version": 3
   },
   "file_extension": ".py",
   "mimetype": "text/x-python",
   "name": "python",
   "nbconvert_exporter": "python",
   "pygments_lexer": "ipython3",
   "version": "3.8.3"
  }
 },
 "nbformat": 4,
 "nbformat_minor": 4
}
