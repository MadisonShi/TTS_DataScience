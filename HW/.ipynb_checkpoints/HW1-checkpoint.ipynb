{
 "cells": [
  {
   "cell_type": "code",
   "execution_count": 2,
   "metadata": {},
   "outputs": [
    {
     "name": "stdout",
     "output_type": "stream",
     "text": [
      "Enter your first name: Madison\n",
      "Enter your last name: Shi\n",
      "Reverse order:  Shi Madison\n"
     ]
    }
   ],
   "source": [
    "#Q1\n",
    "\n",
    "first_name = input(\"Enter your first name: \")\n",
    "last_name = input(\"Enter your last name: \")\n",
    "print(\"Reverse order: \", last_name, first_name)"
   ]
  },
  {
   "cell_type": "code",
   "execution_count": 16,
   "metadata": {},
   "outputs": [
    {
     "name": "stdout",
     "output_type": "stream",
     "text": [
      "Enter an integer: 4\n",
      "492\n"
     ]
    }
   ],
   "source": [
    "#Q2\n",
    "\n",
    "n = int(input(\"Enter an integer: \"))\n",
    "print(n + (n*11) + (n*111))\n",
    "\n",
    "#Marissa's answer\n",
    "#a = int(input(\"Input an integer : \"))\n",
    "#n1 = int( \"%s\" % a ) #%s allows for a variable later defined to be inserted into a string\n",
    "#n2 = int( \"%s%s\" % (a,a) )\n",
    "#n3 = int( \"%s%s%s\" % (a,a,a) )\n",
    "#print (n1+n2+n3)"
   ]
  },
  {
   "cell_type": "code",
   "execution_count": 18,
   "metadata": {},
   "outputs": [
    {
     "name": "stdout",
     "output_type": "stream",
     "text": [
      "What country are you from? Switzerland\n",
      "I have heard that Switzerland is a beautiful country!\n"
     ]
    }
   ],
   "source": [
    "#Q3\n",
    "\n",
    "user_country = input(\"What country are you from? \")\n",
    "print(\"I have heard that\", user_country, \"is a beautiful country!\")"
   ]
  },
  {
   "cell_type": "markdown",
   "metadata": {},
   "source": [
    "#Q4\n",
    "\n",
    "returns nothing\n",
    "\n",
    "#Q5\n",
    "\n",
    "returns [10, 20, 30, 40] for both a and b\n",
    "\n",
    "#Q6\n",
    "\n",
    "output of print(2%6)\n",
    "remainder of 2/6\n",
    "returns 2\n",
    "\n",
    "#Q7\n",
    "\n",
    "returns 216\n",
    "\n",
    "#Q8\n",
    "\n",
    "A text editor is a program that allows the user to write or edit plain text. Using a text editor to program requires using the terminal to run the code for testing and debugging. Some examples include Notepad and Sublime. \n",
    "\n",
    "#Q9\n",
    "\n",
    "Python is a dynamic programming language that started as a teaching languaged and evolved to be one of the most popular programming languages due to its simplicity. Some of the key elements of Python includes its use of whitespace instead of braces and its dynamically allocated variables.\n",
    "\n",
    "#Q10\n",
    "\n",
    "Jupyter Notebook is an IDE (or integrated development environment) that allows the user to write and edit code as well as run it without using a text editor and terminal. It specializes in Python though has evolved to include other programming languages. Alternatives to Jupyter Notebook include Visual Studio Code and Pycharm."
   ]
  }
 ],
 "metadata": {
  "kernelspec": {
   "display_name": "Python 3",
   "language": "python",
   "name": "python3"
  },
  "language_info": {
   "codemirror_mode": {
    "name": "ipython",
    "version": 3
   },
   "file_extension": ".py",
   "mimetype": "text/x-python",
   "name": "python",
   "nbconvert_exporter": "python",
   "pygments_lexer": "ipython3",
   "version": "3.8.3"
  }
 },
 "nbformat": 4,
 "nbformat_minor": 4
}
