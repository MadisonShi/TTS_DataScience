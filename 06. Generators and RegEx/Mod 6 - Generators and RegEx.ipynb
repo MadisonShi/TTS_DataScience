{
 "cells": [
  {
   "cell_type": "markdown",
   "metadata": {},
   "source": [
    "# Mod 6 - Generators and RegEx\n",
    "\n",
    "#### Resources\n",
    "\n",
    "Corey Schafer - How to Match and Write Regex: https://www.youtube.com/watch?v=K8L6KVGG-7o\n",
    "Whirlwind Tour of Python - String Manip and Regex: https://github.com/jakevdp/WhirlwindTourOfPython/blob/6f1daf714fe52a8dde6a288674ba46a7feed8816/14-Strings-and-Regular-Expressions.ipynb\n",
    "Dive into Python - Closures and Generators: https://diveintopython3.net/generators.html\n",
    "\n",
    "## Generators\n",
    "\n",
    "Use parentheses\n",
    "\n",
    "Also returns indv values unless typecast as list\n",
    "\n",
    "ie list(g) vs next(g)\n",
    "\n",
    "Lists can be iterated multiple times but generators are single use"
   ]
  },
  {
   "cell_type": "code",
   "execution_count": 2,
   "metadata": {},
   "outputs": [
    {
     "data": {
      "text/plain": [
       "[0, 1, 4, 9, 16, 25, 36, 49, 64, 81, 100, 121]"
      ]
     },
     "execution_count": 2,
     "metadata": {},
     "output_type": "execute_result"
    }
   ],
   "source": [
    "G = (n ** 2 for n in range(12))\n",
    "list(G) #yielding values"
   ]
  },
  {
   "cell_type": "code",
   "execution_count": 4,
   "metadata": {},
   "outputs": [
    {
     "data": {
      "text/plain": [
       "[]"
      ]
     },
     "execution_count": 4,
     "metadata": {},
     "output_type": "execute_result"
    }
   ],
   "source": [
    "list(G) # goes to the next but nothing is yielded"
   ]
  },
  {
   "cell_type": "markdown",
   "metadata": {},
   "source": [
    "Generators can be useful bc it allows you to stop and start again\n",
    "\n",
    "### Gen functions: using yield\n",
    "\n",
    "Can use yield to make lists "
   ]
  },
  {
   "cell_type": "code",
   "execution_count": 7,
   "metadata": {},
   "outputs": [
    {
     "name": "stdout",
     "output_type": "stream",
     "text": [
      "0 1 4 9 16 25 36 49 64 81 100 121\n",
      "0 1 4 9 16 25 36 49 64 81 100 121\n"
     ]
    }
   ],
   "source": [
    "G1 = (n ** 2 for n in range(12))\n",
    "\n",
    "def gen():\n",
    "    for n in range(12):\n",
    "        yield n ** 2 # yield returns the value; unlike return, doesn't end function\n",
    "        # use yield with recursive function\n",
    "        \n",
    "G2 = gen()\n",
    "print(*G1)\n",
    "print(*G2)"
   ]
  },
  {
   "cell_type": "markdown",
   "metadata": {},
   "source": [
    "Encapsulate logic in generator function"
   ]
  },
  {
   "cell_type": "code",
   "execution_count": 8,
   "metadata": {},
   "outputs": [
    {
     "name": "stdout",
     "output_type": "stream",
     "text": [
      "2 3 5 7 11 13 17 19 23 29 31 37 41 43 47 53 59 61 67 71 73 79 83 89 97\n"
     ]
    }
   ],
   "source": [
    "def gen_primes(N):\n",
    "    primes = set()\n",
    "    for n in range(2, N):\n",
    "        if all(n % p > 0 for p in primes):\n",
    "            primes.add(n)\n",
    "            yield n\n",
    "            \n",
    "print(*gen_primes(100))"
   ]
  },
  {
   "cell_type": "markdown",
   "metadata": {},
   "source": [
    "# RegEx\n",
    "\n",
    "Helpful links:\n",
    "\n",
    "Regex cheatsheet:https://learnbyexample.github.io/cheatsheet/python/python-regex-cheatsheet/\n",
    "\n",
    "Regex python documentation: https://docs.python.org/2/library/re.html\n",
    "\n",
    "Regex functions\n",
    "\n",
    "re.match(pattern, str)\n",
    "\n",
    "re.search(pattern, str)\n",
    "\n",
    "re.findall(pattern, str)\n",
    "\n",
    "re.finditer(pattern, str)\n",
    "\n",
    "re.sub(pattern, replacement, str, count=0)"
   ]
  },
  {
   "cell_type": "code",
   "execution_count": 13,
   "metadata": {},
   "outputs": [
    {
     "name": "stdout",
     "output_type": "stream",
     "text": [
      "He (Putin) is the president of Russia.\n",
      "He’s a powerful man.\n"
     ]
    }
   ],
   "source": [
    "# can use sub to insert - notice parentheses are found regex and \\1\n",
    "import re\n",
    "\n",
    "str = \"\"\"He is the president of Russia.\n",
    "He’s a powerful man.\"\"\"\n",
    "\n",
    "newstr = re.sub(r'(\\b[Hh]e\\b)', r'\\1 (Putin)', str, 1)\n",
    "print(newstr)"
   ]
  },
  {
   "cell_type": "markdown",
   "metadata": {},
   "source": [
    "Can create an RE object that holds a pattern using .compile(pattern, flags=0)"
   ]
  }
 ],
 "metadata": {
  "kernelspec": {
   "display_name": "Python 3",
   "language": "python",
   "name": "python3"
  },
  "language_info": {
   "codemirror_mode": {
    "name": "ipython",
    "version": 3
   },
   "file_extension": ".py",
   "mimetype": "text/x-python",
   "name": "python",
   "nbconvert_exporter": "python",
   "pygments_lexer": "ipython3",
   "version": "3.8.3"
  }
 },
 "nbformat": 4,
 "nbformat_minor": 4
}
