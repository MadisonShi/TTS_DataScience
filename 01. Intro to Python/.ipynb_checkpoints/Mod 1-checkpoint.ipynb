{
 "cells": [
  {
   "cell_type": "markdown",
   "metadata": {},
   "source": [
    "# Notes\n",
    "\n",
    "### Resources\n",
    "\n",
    "Basic Python Syntax - https://nbviewer.jupyter.org/github/jakevdp/WhirlwindTourOfPython/blob/master/02-Basic-Python-Syntax.ipynb\n",
    "\n",
    "Variable and Objs - https://nbviewer.jupyter.org/github/jakevdp/WhirlwindTourOfPython/blob/master/03-Semantics-Variables.ipynb\n",
    "\n",
    "Operators - https://nbviewer.jupyter.org/github/jakevdp/WhirlwindTourOfPython/blob/master/04-Semantics-Operators.ipynb"
   ]
  },
  {
   "cell_type": "code",
   "execution_count": 1,
   "metadata": {},
   "outputs": [
    {
     "name": "stdout",
     "output_type": "stream",
     "text": [
      "lower: [0, 1, 2, 3, 4]\n",
      "upper: [5, 6, 7, 8, 9]\n"
     ]
    }
   ],
   "source": [
    "#set the midpoint\n",
    "midpoint = 5 \n",
    "\n",
    "#\\ or parenth to indicate line to next line\n",
    "\n",
    "#make 2 empty lists\n",
    "lower = []; upper = []\n",
    "\n",
    "#split the numbers into lower and upper\n",
    "for i in range(10): #whitespace matters and denote indentation\n",
    "    if(i < midpoint):\n",
    "        lower.append(i)\n",
    "    else:\n",
    "        upper.append(i)\n",
    "    \n",
    "print(\"lower:\", lower)\n",
    "print(\"upper:\", upper)"
   ]
  },
  {
   "cell_type": "code",
   "execution_count": 2,
   "metadata": {},
   "outputs": [
    {
     "name": "stdout",
     "output_type": "stream",
     "text": [
      "6\n"
     ]
    }
   ],
   "source": [
    "#whitespace example\n",
    "x = 6\n",
    "if x < 4:\n",
    "    y = x * 2\n",
    "print(x) #prints x regardless if x < 4\n",
    "\n",
    "if x < 4:\n",
    "    y = x * 2\n",
    "    print(x) #print x only if x < 4"
   ]
  },
  {
   "cell_type": "code",
   "execution_count": 4,
   "metadata": {},
   "outputs": [
    {
     "name": "stdout",
     "output_type": "stream",
     "text": [
      "current x and y:  [1, 2, 3]\n",
      "appended 4 to x:  [1, 2, 3, 4]\n",
      "new x:  something else\n",
      "y:  [1, 2, 3, 4]\n"
     ]
    }
   ],
   "source": [
    "#python variables are pointers\n",
    "x = 4 #defining pointer x that points to a memory bucket containing 4\n",
    "\n",
    "x = [1,2,3]\n",
    "y = x\n",
    "print(\"current x and y: \", y)\n",
    "\n",
    "x.append(4) #adds 4 to y as well bc the list y is pointed at has changed\n",
    "print(\"appended 4 to x: \", y)\n",
    "\n",
    "x = \"something else\" \n",
    "print(\"new x: \", x); print(\"y: \", y)\n",
    "#y is unaffected bc x is now pointing at string, but doesn't affect how y points"
   ]
  },
  {
   "cell_type": "code",
   "execution_count": 7,
   "metadata": {},
   "outputs": [
    {
     "name": "stdout",
     "output_type": "stream",
     "text": [
      "7\n",
      "225\n"
     ]
    }
   ],
   "source": [
    "# operators\n",
    "\n",
    "a = 15\n",
    "b = 2\n",
    "\n",
    "print(a // b) #floor division\n",
    "print(a ** b) #exponentiation\n",
    "\n",
    "#a @ b gives matrix"
   ]
  },
  {
   "cell_type": "code",
   "execution_count": 8,
   "metadata": {},
   "outputs": [
    {
     "data": {
      "text/plain": [
       "'0b100'"
      ]
     },
     "execution_count": 8,
     "metadata": {},
     "output_type": "execute_result"
    }
   ],
   "source": [
    "#bit operators - usuful for binary rep\n",
    "bin(4) #shows binary 4"
   ]
  },
  {
   "cell_type": "code",
   "execution_count": 9,
   "metadata": {},
   "outputs": [
    {
     "data": {
      "text/plain": [
       "False"
      ]
     },
     "execution_count": 9,
     "metadata": {},
     "output_type": "execute_result"
    }
   ],
   "source": [
    "#boolean op - and, or, not\n",
    "\n",
    "x = 4\n",
    "(x < 6) and (x > 2)\n",
    "\n",
    "(x > 10) or (x % 2 == 0)\n",
    "\n",
    "not(x < 6)\n",
    "\n",
    "#XOR\n",
    "(x > 1) != (x < 10)"
   ]
  },
  {
   "cell_type": "code",
   "execution_count": null,
   "metadata": {},
   "outputs": [],
   "source": [
    "#identity and membership operators - checks on pointing\n",
    "\n",
    "#identity\n",
    "a = [1,2,3]\n",
    "b = [1,2,3]\n",
    "\n",
    "a is b #false\n",
    "a is not b #true\n",
    "\n",
    "b = a\n",
    "a is b #true\n",
    "\n",
    "#membership\n",
    "1 in [1,2,3]\n",
    "4 is not in [1,2,3]"
   ]
  },
  {
   "cell_type": "code",
   "execution_count": 10,
   "metadata": {},
   "outputs": [
    {
     "name": "stdout",
     "output_type": "stream",
     "text": [
      "please enter your name:hello!\n"
     ]
    },
    {
     "data": {
      "text/plain": [
       "'hello!'"
      ]
     },
     "execution_count": 10,
     "metadata": {},
     "output_type": "execute_result"
    }
   ],
   "source": [
    "#input function\n",
    "\n",
    "input(\"please enter your name:\")"
   ]
  },
  {
   "cell_type": "code",
   "execution_count": null,
   "metadata": {},
   "outputs": [],
   "source": [
    "#walrus operator - assigns value to variable and returns it\n",
    "if(name :- 'Madison'): #returning true for an if state\n",
    "    pass\n",
    "\n",
    "#mutable vs immutable objects\n",
    "#mutable list (passed by reference)\n",
    "x = [1,2,4]\n",
    "\n",
    "#immutable integer (passed by value)\n",
    "x = 4 "
   ]
  }
 ],
 "metadata": {
  "kernelspec": {
   "display_name": "Python 3",
   "language": "python",
   "name": "python3"
  },
  "language_info": {
   "codemirror_mode": {
    "name": "ipython",
    "version": 3
   },
   "file_extension": ".py",
   "mimetype": "text/x-python",
   "name": "python",
   "nbconvert_exporter": "python",
   "pygments_lexer": "ipython3",
   "version": "3.8.3"
  }
 },
 "nbformat": 4,
 "nbformat_minor": 4
}
