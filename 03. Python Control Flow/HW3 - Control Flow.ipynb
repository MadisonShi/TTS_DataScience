{
 "cells": [
  {
   "cell_type": "markdown",
   "metadata": {},
   "source": [
    "# Control Flow Exercises\n",
    "\n",
    "Complete the following exercises in their own Python script and upload those files when completed.\n",
    "\n",
    "#### Exercise 1\n",
    "Guess a number between 1 to 9 given by the user"
   ]
  },
  {
   "cell_type": "code",
   "execution_count": null,
   "metadata": {},
   "outputs": [],
   "source": [
    "guess = 1\n",
    "\n",
    "while guess < 10:\n",
    "    answer = input(\"Is your number \" + str(guess) + \"? Enter y for yes, n for no: \")\n",
    "    if answer==\"y\":\n",
    "        print(\"Your number is\", guess)\n",
    "        break\n",
    "    guess += 1\n",
    "    if(guess == 10):\n",
    "        print(\"You didn't guess a number between 1-9. Try again.\")\n",
    "\n",
    "#Marissa's solution\n",
    "# import random\n",
    "\n",
    "# target_num, guess_num = random.randint(1, 10), 0\n",
    "# while target_num != guess_num:\n",
    "#     guess_num = int(input('Guess a number between 1 and 10 until you get it right : '))\n",
    "# print('You guessed correct!')"
   ]
  },
  {
   "cell_type": "markdown",
   "metadata": {},
   "source": [
    "#### Exercise 2\n",
    "Check the validity of password input by the user.\n",
    "\n",
    "Validation:\n",
    "\n",
    "At least 1 letter between [a-z] and 1 letter between [A-Z]\n",
    "\n",
    "At least 1 number between [0-9]\n",
    "\n",
    "At least 1 character from [$#@]\n",
    "\n",
    "Minimum length 6 characters\n",
    "\n",
    "Maximum length 16 characters"
   ]
  },
  {
   "cell_type": "code",
   "execution_count": 69,
   "metadata": {},
   "outputs": [
    {
     "name": "stdout",
     "output_type": "stream",
     "text": [
      "Input your password: Password10@\n",
      "Password valid\n"
     ]
    }
   ],
   "source": [
    "import re\n",
    "\n",
    "password = str(input(\"Input your password: \"))\n",
    "reg = \"^(?=.*[a-z])(?=.*[A-Z])(?=.*\\d)(?=.*[$#@])[a-zA-Z\\d@#$^&%*!]{6,16}$\"\n",
    "\n",
    "if(re.search(reg, password)):\n",
    "    print(\"Password valid\")\n",
    "else:\n",
    "    print(\"Password invalid\")\n"
   ]
  },
  {
   "cell_type": "markdown",
   "metadata": {},
   "source": [
    "#### Exercise 3\n",
    "\n",
    "Get input of the age of 3 people by user and determine oldest and youngest among them"
   ]
  },
  {
   "cell_type": "code",
   "execution_count": 76,
   "metadata": {},
   "outputs": [
    {
     "name": "stdout",
     "output_type": "stream",
     "text": [
      "Enter name & age separated by a space Ben 10\n",
      "Enter name & age separated by a space Jordin 13\n",
      "Enter name & age separated by a space Madison 100\n",
      "Ben is the youngest at 10\n",
      "Madison is the oldest at 100\n"
     ]
    }
   ],
   "source": [
    "dict_age = dict()\n",
    "\n",
    "for i in range(3):\n",
    "    data = input('Enter name & age separated by a space ') \n",
    "    temp = data.split() \n",
    "    dict_age[temp[0]] = int(temp[1]) \n",
    "\n",
    "for n, a in dict_age.items():\n",
    "    if a>=max(dict_age.values()):\n",
    "        print(f'{n} is the oldest at {a}')\n",
    "    if a<=min(dict_age.values()):\n",
    "        print(f'{n} is the youngest at {a}')\n"
   ]
  },
  {
   "cell_type": "markdown",
   "metadata": {},
   "source": [
    "#### Exercise 4\n",
    "A student will not be allowed to sit in exam if his/her attendance is less than 75%.\n",
    "\n",
    "Take following input from user:\n",
    "\n",
    "    Number of classes held\n",
    "\n",
    "    Number of classes attended.\n",
    "\n",
    "And print percentage of class attended\n",
    "\n",
    "Is student is allowed to sit in exam or not?"
   ]
  },
  {
   "cell_type": "code",
   "execution_count": 87,
   "metadata": {},
   "outputs": [
    {
     "name": "stdout",
     "output_type": "stream",
     "text": [
      "How many classes have been held? 13\n",
      "How many classes has the student attended? 4\n",
      "Student is not allowed to sit in on the exam because his/her attendance was 31.0%\n"
     ]
    }
   ],
   "source": [
    "classes_held = int(input(\"How many classes have been held? \"))\n",
    "classes_attended = int(input(\"How many classes has the student attended? \"))\n",
    "\n",
    "attendance = round(classes_attended / classes_held, 2)\n",
    "\n",
    "if(attendance < 0.75):\n",
    "    print(\"Student is not allowed to sit in on the exam because his/her attendance was\", str(attendance*100) + \"%\")\n",
    "else:\n",
    "    print(\"Student is allowed to sit in on the exam because his/her attendance was\", str(attendance*100) + \"%\")"
   ]
  },
  {
   "cell_type": "markdown",
   "metadata": {},
   "source": [
    "#### Exercise 5\n",
    "\n",
    "Get an integer N from the user and perform the following actions:\n",
    "\n",
    "if N is odd, print \"weird\"\n",
    "\n",
    "if N is even and in the inclusive range of 2 to 5, print \"Not Weird\"\n",
    "\n",
    "if N is even and in the inclusive range of 6 to 20, print \"Weird\"\n",
    "\n",
    "if N is even and greater than 20, print \"Not Weird\""
   ]
  },
  {
   "cell_type": "code",
   "execution_count": 53,
   "metadata": {},
   "outputs": [
    {
     "name": "stdout",
     "output_type": "stream",
     "text": [
      "Please input an integer: 100\n",
      "not weird\n"
     ]
    }
   ],
   "source": [
    "user_int = int(input(\"Please input an integer: \"))\n",
    "\n",
    "if(user_int== 2 or user_int==4 or (user_int%2==0 and user_int>20)):\n",
    "    print(\"not weird\")\n",
    "elif(user_int%2!=0 or (user_int%2==0 and user_int >=6 and user_int<=20)):\n",
    "    print(\"weird\")\n",
    "else: # case for 0 and negative integers\n",
    "    print(\"Integer does not match condition for weird or not weird\")"
   ]
  },
  {
   "cell_type": "code",
   "execution_count": null,
   "metadata": {},
   "outputs": [],
   "source": []
  }
 ],
 "metadata": {
  "kernelspec": {
   "display_name": "Python 3",
   "language": "python",
   "name": "python3"
  },
  "language_info": {
   "codemirror_mode": {
    "name": "ipython",
    "version": 3
   },
   "file_extension": ".py",
   "mimetype": "text/x-python",
   "name": "python",
   "nbconvert_exporter": "python",
   "pygments_lexer": "ipython3",
   "version": "3.8.3"
  }
 },
 "nbformat": 4,
 "nbformat_minor": 4
}
