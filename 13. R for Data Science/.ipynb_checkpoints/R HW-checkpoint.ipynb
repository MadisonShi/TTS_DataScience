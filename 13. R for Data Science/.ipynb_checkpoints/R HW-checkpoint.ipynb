{
 "cells": [
  {
   "cell_type": "markdown",
   "metadata": {},
   "source": [
    "# Intro to R Homework\n",
    "\n",
    "### Creating vectors/factors and dataframes\n",
    "\n",
    "We are performing RNA-Seq on cancer samples being treated with three different types of treatment (A, B, and P). You have 12 samples total, with 4 replicates per treatment. Write the R code you would use to construct your metadata table as described below.\n",
    "\n",
    "Create the vectors/factors for each column (Hint: you can type out each vector/factor, or if you want the process go faster try exploring the rep() function).\n",
    "\n",
    "Put them together into a dataframe called meta.\n",
    "\n",
    "Use the rownames() function to assign row names to the dataframe (Hint: you can type out the row names as a vector, or if you want the process go faster try exploring the paste() function).\n",
    "Your finished metadata table should have information for the variables sex, stage, treatment, and myc levels:\n",
    "\n",
    " \tsex\tstage\ttreatment\tmyc\n",
    "    \n",
    "sample1\tM\tI\tA\t2343\n",
    "\n",
    "sample2\tF\tII\tA\t457\n",
    "\n",
    "sample3\tM\tII\tA\t4593\n",
    "\n",
    "sample4\tF\tI\tA\t9035\n",
    "\n",
    "sample5\tM\tII\tB\t3450\n",
    "\n",
    "sample6\tF\tII\tB\t3524\n",
    "\n",
    "sample7\tM\tI\tB\t958\n",
    "\n",
    "sample8\tF\tII\tB\t1053\n",
    "\n",
    "sample9\tM\tII\tP\t8674\n",
    "\n",
    "sample10\tF\tI\tP\t3424\n",
    "\n",
    "sample11\tM\tII\tP\t463\n",
    "\n",
    "sample12\tF\tII\tP\t5105"
   ]
  },
  {
   "cell_type": "code",
   "execution_count": 79,
   "metadata": {},
   "outputs": [
    {
     "name": "stdout",
     "output_type": "stream",
     "text": [
      "         sex stage treatment  myc\n",
      "sample1    M     I         A 2343\n",
      "sample2    F    II         A  457\n",
      "sample3    M    II         A 4593\n",
      "sample4    F     I         A 9035\n",
      "sample5    M    II         B 3450\n",
      "sample6    F    II         B 3524\n",
      "sample7    M     I         B  958\n",
      "sample8    F    II         B 1053\n",
      "sample9    M    II         P 8674\n",
      "sample10   F     I         P 3424\n",
      "sample11   M    II         P  463\n",
      "sample12   F    II         P 5105\n"
     ]
    }
   ],
   "source": [
    "meta <- data.frame(\n",
    "    sex = rep(c(\"M\", \"F\"), 6),\n",
    "    stage = rep(c(\"I\", \"II\", \"II\"), 4),\n",
    "    treatment = rep(c(\"A\", \"B\", \"P\"), each=4),\n",
    "    myc = c(2343, 457, 4593, 9035,3450,3524,958,1053,8674,3424,463,5105)\n",
    ")\n",
    "row.names(meta)<-paste(\"sample\",row.names(meta), sep=\"\")\n",
    "print(meta)"
   ]
  },
  {
   "cell_type": "markdown",
   "metadata": {},
   "source": [
    "### Subsetting vectors/factors and dataframes\n",
    "\n",
    "Using the meta data frame from question #1, write out the R code you would use to perform the following operations (questions DO NOT build upon each other):\n",
    "\n",
    "return only the treatment and sex columns using []:\n",
    "\n",
    "return the treatment values for samples 5, 7, 9, and 10 using []:\n",
    "\n",
    "use filter() to return all data for those samples receiving treatment P:\n",
    "\n",
    "use filter()/select()to return only the stage and treatment columns for those samples with myc > 5000:\n",
    "\n",
    "remove the treatment column from the dataset using []:\n",
    "\n",
    "remove samples 7, 8 and 9 from the dataset using []:\n",
    "\n",
    "keep only samples 1-6 using []:\n",
    "\n",
    "add a column called pre_treatment to the beginning of the dataframe with the values T, F, F, F, T, T, F, T, F, F, T, T (Hint: use cbind()):\n",
    "\n",
    "change the names of the columns to: “A”, “B”, “C”, “D”:"
   ]
  },
  {
   "cell_type": "code",
   "execution_count": 40,
   "metadata": {},
   "outputs": [
    {
     "name": "stdout",
     "output_type": "stream",
     "text": [
      "         treatment sex\n",
      "sample1          A   M\n",
      "sample2          A   F\n",
      "sample3          A   M\n",
      "sample4          A   F\n",
      "sample5          B   M\n",
      "sample6          B   F\n",
      "sample7          B   M\n",
      "sample8          B   F\n",
      "sample9          P   M\n",
      "sample10         P   F\n",
      "sample11         P   M\n",
      "sample12         P   F\n"
     ]
    }
   ],
   "source": [
    "#return only the treatment and sex columns using []\n",
    "print(meta[,c(3,1)])"
   ]
  },
  {
   "cell_type": "code",
   "execution_count": 41,
   "metadata": {},
   "outputs": [
    {
     "name": "stdout",
     "output_type": "stream",
     "text": [
      "[1] B B P P\n",
      "Levels: A B P\n"
     ]
    }
   ],
   "source": [
    "#return the treatment values for samples 5, 7, 9, and 10 using []\n",
    "print(meta[c(5,7,9,10),c(3)])"
   ]
  },
  {
   "cell_type": "code",
   "execution_count": 50,
   "metadata": {},
   "outputs": [
    {
     "name": "stderr",
     "output_type": "stream",
     "text": [
      "also installing the dependencies ‘ellipsis’, ‘pillar’, ‘glue’, ‘lifecycle’, ‘rlang’, ‘tibble’, ‘tidyselect’, ‘vctrs’\n",
      "\n",
      "Updating HTML index of packages in '.Library'\n",
      "Making 'packages.html' ... done\n",
      "\n",
      "Attaching package: ‘dplyr’\n",
      "\n",
      "The following objects are masked from ‘package:stats’:\n",
      "\n",
      "    filter, lag\n",
      "\n",
      "The following objects are masked from ‘package:base’:\n",
      "\n",
      "    intersect, setdiff, setequal, union\n",
      "\n"
     ]
    },
    {
     "data": {
      "text/html": [
       "<table>\n",
       "<thead><tr><th></th><th scope=col>sex</th><th scope=col>stage</th><th scope=col>treatment</th><th scope=col>myc</th></tr></thead>\n",
       "<tbody>\n",
       "\t<tr><th scope=row>sample9</th><td>M   </td><td>II  </td><td>P   </td><td>8674</td></tr>\n",
       "\t<tr><th scope=row>sample10</th><td>F   </td><td>I   </td><td>P   </td><td>3424</td></tr>\n",
       "\t<tr><th scope=row>sample11</th><td>M   </td><td>II  </td><td>P   </td><td> 463</td></tr>\n",
       "\t<tr><th scope=row>sample12</th><td>F   </td><td>II  </td><td>P   </td><td>5105</td></tr>\n",
       "</tbody>\n",
       "</table>\n"
      ],
      "text/latex": [
       "\\begin{tabular}{r|llll}\n",
       "  & sex & stage & treatment & myc\\\\\n",
       "\\hline\n",
       "\tsample9 & M    & II   & P    & 8674\\\\\n",
       "\tsample10 & F    & I    & P    & 3424\\\\\n",
       "\tsample11 & M    & II   & P    &  463\\\\\n",
       "\tsample12 & F    & II   & P    & 5105\\\\\n",
       "\\end{tabular}\n"
      ],
      "text/markdown": [
       "\n",
       "| <!--/--> | sex | stage | treatment | myc |\n",
       "|---|---|---|---|---|\n",
       "| sample9 | M    | II   | P    | 8674 |\n",
       "| sample10 | F    | I    | P    | 3424 |\n",
       "| sample11 | M    | II   | P    |  463 |\n",
       "| sample12 | F    | II   | P    | 5105 |\n",
       "\n"
      ],
      "text/plain": [
       "         sex stage treatment myc \n",
       "sample9  M   II    P         8674\n",
       "sample10 F   I     P         3424\n",
       "sample11 M   II    P          463\n",
       "sample12 F   II    P         5105"
      ]
     },
     "metadata": {},
     "output_type": "display_data"
    }
   ],
   "source": [
    "#use filter() to return all data for those samples receiving treatment P\n",
    "install.packages(\"dplyr\")                                    \n",
    "library(\"dplyr\") \n",
    "filter(meta, treatment == \"P\")"
   ]
  },
  {
   "cell_type": "code",
   "execution_count": 60,
   "metadata": {},
   "outputs": [
    {
     "ename": "ERROR",
     "evalue": "Error in parse(text = x, srcfile = src): <text>:3:0: unexpected end of input\n1: #use filter()/select()to return only the stage and treatment columns for those samples with myc > 5000\n2: select(filter(meta, myc > 5000), 2:3\n  ^\n",
     "output_type": "error",
     "traceback": [
      "Error in parse(text = x, srcfile = src): <text>:3:0: unexpected end of input\n1: #use filter()/select()to return only the stage and treatment columns for those samples with myc > 5000\n2: select(filter(meta, myc > 5000), 2:3\n  ^\nTraceback:\n"
     ]
    }
   ],
   "source": [
    "#use filter()/select()to return only the stage and treatment columns for those samples with myc > 5000\n",
    "select(filter(meta, myc > 5000), 2:3"
   ]
  },
  {
   "cell_type": "code",
   "execution_count": 66,
   "metadata": {},
   "outputs": [],
   "source": [
    "#remove the treatment column from the dataset using []\n",
    "meta[3]<-NULL"
   ]
  },
  {
   "cell_type": "code",
   "execution_count": 67,
   "metadata": {},
   "outputs": [
    {
     "data": {
      "text/html": [
       "<table>\n",
       "<thead><tr><th></th><th scope=col>sex</th><th scope=col>stage</th><th scope=col>myc</th></tr></thead>\n",
       "<tbody>\n",
       "\t<tr><th scope=row>sample1</th><td>M   </td><td>I   </td><td>2343</td></tr>\n",
       "\t<tr><th scope=row>sample2</th><td>F   </td><td>II  </td><td> 457</td></tr>\n",
       "\t<tr><th scope=row>sample3</th><td>M   </td><td>II  </td><td>4593</td></tr>\n",
       "\t<tr><th scope=row>sample4</th><td>F   </td><td>I   </td><td>9035</td></tr>\n",
       "\t<tr><th scope=row>sample5</th><td>M   </td><td>II  </td><td>3450</td></tr>\n",
       "\t<tr><th scope=row>sample6</th><td>F   </td><td>II  </td><td>3524</td></tr>\n",
       "\t<tr><th scope=row>sample7</th><td>M   </td><td>I   </td><td> 958</td></tr>\n",
       "\t<tr><th scope=row>sample8</th><td>F   </td><td>II  </td><td>1053</td></tr>\n",
       "\t<tr><th scope=row>sample9</th><td>M   </td><td>II  </td><td>8674</td></tr>\n",
       "\t<tr><th scope=row>sample10</th><td>F   </td><td>I   </td><td>3424</td></tr>\n",
       "\t<tr><th scope=row>sample11</th><td>M   </td><td>II  </td><td> 463</td></tr>\n",
       "\t<tr><th scope=row>sample12</th><td>F   </td><td>II  </td><td>5105</td></tr>\n",
       "</tbody>\n",
       "</table>\n"
      ],
      "text/latex": [
       "\\begin{tabular}{r|lll}\n",
       "  & sex & stage & myc\\\\\n",
       "\\hline\n",
       "\tsample1 & M    & I    & 2343\\\\\n",
       "\tsample2 & F    & II   &  457\\\\\n",
       "\tsample3 & M    & II   & 4593\\\\\n",
       "\tsample4 & F    & I    & 9035\\\\\n",
       "\tsample5 & M    & II   & 3450\\\\\n",
       "\tsample6 & F    & II   & 3524\\\\\n",
       "\tsample7 & M    & I    &  958\\\\\n",
       "\tsample8 & F    & II   & 1053\\\\\n",
       "\tsample9 & M    & II   & 8674\\\\\n",
       "\tsample10 & F    & I    & 3424\\\\\n",
       "\tsample11 & M    & II   &  463\\\\\n",
       "\tsample12 & F    & II   & 5105\\\\\n",
       "\\end{tabular}\n"
      ],
      "text/markdown": [
       "\n",
       "| <!--/--> | sex | stage | myc |\n",
       "|---|---|---|---|\n",
       "| sample1 | M    | I    | 2343 |\n",
       "| sample2 | F    | II   |  457 |\n",
       "| sample3 | M    | II   | 4593 |\n",
       "| sample4 | F    | I    | 9035 |\n",
       "| sample5 | M    | II   | 3450 |\n",
       "| sample6 | F    | II   | 3524 |\n",
       "| sample7 | M    | I    |  958 |\n",
       "| sample8 | F    | II   | 1053 |\n",
       "| sample9 | M    | II   | 8674 |\n",
       "| sample10 | F    | I    | 3424 |\n",
       "| sample11 | M    | II   |  463 |\n",
       "| sample12 | F    | II   | 5105 |\n",
       "\n"
      ],
      "text/plain": [
       "         sex stage myc \n",
       "sample1  M   I     2343\n",
       "sample2  F   II     457\n",
       "sample3  M   II    4593\n",
       "sample4  F   I     9035\n",
       "sample5  M   II    3450\n",
       "sample6  F   II    3524\n",
       "sample7  M   I      958\n",
       "sample8  F   II    1053\n",
       "sample9  M   II    8674\n",
       "sample10 F   I     3424\n",
       "sample11 M   II     463\n",
       "sample12 F   II    5105"
      ]
     },
     "metadata": {},
     "output_type": "display_data"
    }
   ],
   "source": [
    "meta"
   ]
  },
  {
   "cell_type": "code",
   "execution_count": 70,
   "metadata": {},
   "outputs": [
    {
     "data": {
      "text/html": [
       "<table>\n",
       "<thead><tr><th></th><th scope=col>sex</th><th scope=col>stage</th><th scope=col>myc</th></tr></thead>\n",
       "<tbody>\n",
       "\t<tr><th scope=row>sample1</th><td>M   </td><td>I   </td><td>2343</td></tr>\n",
       "\t<tr><th scope=row>sample2</th><td>F   </td><td>II  </td><td> 457</td></tr>\n",
       "\t<tr><th scope=row>sample3</th><td>M   </td><td>II  </td><td>4593</td></tr>\n",
       "\t<tr><th scope=row>sample4</th><td>F   </td><td>I   </td><td>9035</td></tr>\n",
       "\t<tr><th scope=row>sample5</th><td>M   </td><td>II  </td><td>3450</td></tr>\n",
       "\t<tr><th scope=row>sample6</th><td>F   </td><td>II  </td><td>3524</td></tr>\n",
       "\t<tr><th scope=row>sample10</th><td>F   </td><td>I   </td><td>3424</td></tr>\n",
       "\t<tr><th scope=row>sample11</th><td>M   </td><td>II  </td><td> 463</td></tr>\n",
       "\t<tr><th scope=row>sample12</th><td>F   </td><td>II  </td><td>5105</td></tr>\n",
       "</tbody>\n",
       "</table>\n"
      ],
      "text/latex": [
       "\\begin{tabular}{r|lll}\n",
       "  & sex & stage & myc\\\\\n",
       "\\hline\n",
       "\tsample1 & M    & I    & 2343\\\\\n",
       "\tsample2 & F    & II   &  457\\\\\n",
       "\tsample3 & M    & II   & 4593\\\\\n",
       "\tsample4 & F    & I    & 9035\\\\\n",
       "\tsample5 & M    & II   & 3450\\\\\n",
       "\tsample6 & F    & II   & 3524\\\\\n",
       "\tsample10 & F    & I    & 3424\\\\\n",
       "\tsample11 & M    & II   &  463\\\\\n",
       "\tsample12 & F    & II   & 5105\\\\\n",
       "\\end{tabular}\n"
      ],
      "text/markdown": [
       "\n",
       "| <!--/--> | sex | stage | myc |\n",
       "|---|---|---|---|\n",
       "| sample1 | M    | I    | 2343 |\n",
       "| sample2 | F    | II   |  457 |\n",
       "| sample3 | M    | II   | 4593 |\n",
       "| sample4 | F    | I    | 9035 |\n",
       "| sample5 | M    | II   | 3450 |\n",
       "| sample6 | F    | II   | 3524 |\n",
       "| sample10 | F    | I    | 3424 |\n",
       "| sample11 | M    | II   |  463 |\n",
       "| sample12 | F    | II   | 5105 |\n",
       "\n"
      ],
      "text/plain": [
       "         sex stage myc \n",
       "sample1  M   I     2343\n",
       "sample2  F   II     457\n",
       "sample3  M   II    4593\n",
       "sample4  F   I     9035\n",
       "sample5  M   II    3450\n",
       "sample6  F   II    3524\n",
       "sample10 F   I     3424\n",
       "sample11 M   II     463\n",
       "sample12 F   II    5105"
      ]
     },
     "metadata": {},
     "output_type": "display_data"
    }
   ],
   "source": [
    "#remove samples 7, 8 and 9 from the dataset using []\n",
    "meta[-c(7,8,9),]"
   ]
  },
  {
   "cell_type": "code",
   "execution_count": 71,
   "metadata": {},
   "outputs": [
    {
     "data": {
      "text/html": [
       "<table>\n",
       "<thead><tr><th></th><th scope=col>sex</th><th scope=col>stage</th><th scope=col>myc</th></tr></thead>\n",
       "<tbody>\n",
       "\t<tr><th scope=row>sample1</th><td>M   </td><td>I   </td><td>2343</td></tr>\n",
       "\t<tr><th scope=row>sample2</th><td>F   </td><td>II  </td><td> 457</td></tr>\n",
       "\t<tr><th scope=row>sample3</th><td>M   </td><td>II  </td><td>4593</td></tr>\n",
       "\t<tr><th scope=row>sample4</th><td>F   </td><td>I   </td><td>9035</td></tr>\n",
       "\t<tr><th scope=row>sample5</th><td>M   </td><td>II  </td><td>3450</td></tr>\n",
       "\t<tr><th scope=row>sample6</th><td>F   </td><td>II  </td><td>3524</td></tr>\n",
       "</tbody>\n",
       "</table>\n"
      ],
      "text/latex": [
       "\\begin{tabular}{r|lll}\n",
       "  & sex & stage & myc\\\\\n",
       "\\hline\n",
       "\tsample1 & M    & I    & 2343\\\\\n",
       "\tsample2 & F    & II   &  457\\\\\n",
       "\tsample3 & M    & II   & 4593\\\\\n",
       "\tsample4 & F    & I    & 9035\\\\\n",
       "\tsample5 & M    & II   & 3450\\\\\n",
       "\tsample6 & F    & II   & 3524\\\\\n",
       "\\end{tabular}\n"
      ],
      "text/markdown": [
       "\n",
       "| <!--/--> | sex | stage | myc |\n",
       "|---|---|---|---|\n",
       "| sample1 | M    | I    | 2343 |\n",
       "| sample2 | F    | II   |  457 |\n",
       "| sample3 | M    | II   | 4593 |\n",
       "| sample4 | F    | I    | 9035 |\n",
       "| sample5 | M    | II   | 3450 |\n",
       "| sample6 | F    | II   | 3524 |\n",
       "\n"
      ],
      "text/plain": [
       "        sex stage myc \n",
       "sample1 M   I     2343\n",
       "sample2 F   II     457\n",
       "sample3 M   II    4593\n",
       "sample4 F   I     9035\n",
       "sample5 M   II    3450\n",
       "sample6 F   II    3524"
      ]
     },
     "metadata": {},
     "output_type": "display_data"
    }
   ],
   "source": [
    "#keep only samples 1-6 using []\n",
    "meta[1:6,]"
   ]
  },
  {
   "cell_type": "code",
   "execution_count": 76,
   "metadata": {},
   "outputs": [
    {
     "data": {
      "text/html": [
       "<table>\n",
       "<thead><tr><th></th><th scope=col>pre_treatment</th><th scope=col>sex</th><th scope=col>stage</th><th scope=col>treatment</th><th scope=col>myc</th></tr></thead>\n",
       "<tbody>\n",
       "\t<tr><th scope=row>sample1</th><td>T   </td><td>M   </td><td>I   </td><td>A   </td><td>2343</td></tr>\n",
       "\t<tr><th scope=row>sample2</th><td>F   </td><td>F   </td><td>II  </td><td>A   </td><td> 457</td></tr>\n",
       "\t<tr><th scope=row>sample3</th><td>F   </td><td>M   </td><td>II  </td><td>A   </td><td>4593</td></tr>\n",
       "\t<tr><th scope=row>sample4</th><td>F   </td><td>F   </td><td>I   </td><td>A   </td><td>9035</td></tr>\n",
       "\t<tr><th scope=row>sample5</th><td>T   </td><td>M   </td><td>II  </td><td>B   </td><td>3450</td></tr>\n",
       "\t<tr><th scope=row>sample6</th><td>T   </td><td>F   </td><td>II  </td><td>B   </td><td>3524</td></tr>\n",
       "\t<tr><th scope=row>sample7</th><td>F   </td><td>M   </td><td>I   </td><td>B   </td><td> 958</td></tr>\n",
       "\t<tr><th scope=row>sample8</th><td>T   </td><td>F   </td><td>II  </td><td>B   </td><td>1053</td></tr>\n",
       "\t<tr><th scope=row>sample9</th><td>F   </td><td>M   </td><td>II  </td><td>P   </td><td>8674</td></tr>\n",
       "\t<tr><th scope=row>sample10</th><td>F   </td><td>F   </td><td>I   </td><td>P   </td><td>3424</td></tr>\n",
       "\t<tr><th scope=row>sample11</th><td>T   </td><td>M   </td><td>II  </td><td>P   </td><td> 463</td></tr>\n",
       "\t<tr><th scope=row>sample12</th><td>T   </td><td>F   </td><td>II  </td><td>P   </td><td>5105</td></tr>\n",
       "</tbody>\n",
       "</table>\n"
      ],
      "text/latex": [
       "\\begin{tabular}{r|lllll}\n",
       "  & pre\\_treatment & sex & stage & treatment & myc\\\\\n",
       "\\hline\n",
       "\tsample1 & T    & M    & I    & A    & 2343\\\\\n",
       "\tsample2 & F    & F    & II   & A    &  457\\\\\n",
       "\tsample3 & F    & M    & II   & A    & 4593\\\\\n",
       "\tsample4 & F    & F    & I    & A    & 9035\\\\\n",
       "\tsample5 & T    & M    & II   & B    & 3450\\\\\n",
       "\tsample6 & T    & F    & II   & B    & 3524\\\\\n",
       "\tsample7 & F    & M    & I    & B    &  958\\\\\n",
       "\tsample8 & T    & F    & II   & B    & 1053\\\\\n",
       "\tsample9 & F    & M    & II   & P    & 8674\\\\\n",
       "\tsample10 & F    & F    & I    & P    & 3424\\\\\n",
       "\tsample11 & T    & M    & II   & P    &  463\\\\\n",
       "\tsample12 & T    & F    & II   & P    & 5105\\\\\n",
       "\\end{tabular}\n"
      ],
      "text/markdown": [
       "\n",
       "| <!--/--> | pre_treatment | sex | stage | treatment | myc |\n",
       "|---|---|---|---|---|---|\n",
       "| sample1 | T    | M    | I    | A    | 2343 |\n",
       "| sample2 | F    | F    | II   | A    |  457 |\n",
       "| sample3 | F    | M    | II   | A    | 4593 |\n",
       "| sample4 | F    | F    | I    | A    | 9035 |\n",
       "| sample5 | T    | M    | II   | B    | 3450 |\n",
       "| sample6 | T    | F    | II   | B    | 3524 |\n",
       "| sample7 | F    | M    | I    | B    |  958 |\n",
       "| sample8 | T    | F    | II   | B    | 1053 |\n",
       "| sample9 | F    | M    | II   | P    | 8674 |\n",
       "| sample10 | F    | F    | I    | P    | 3424 |\n",
       "| sample11 | T    | M    | II   | P    |  463 |\n",
       "| sample12 | T    | F    | II   | P    | 5105 |\n",
       "\n"
      ],
      "text/plain": [
       "         pre_treatment sex stage treatment myc \n",
       "sample1  T             M   I     A         2343\n",
       "sample2  F             F   II    A          457\n",
       "sample3  F             M   II    A         4593\n",
       "sample4  F             F   I     A         9035\n",
       "sample5  T             M   II    B         3450\n",
       "sample6  T             F   II    B         3524\n",
       "sample7  F             M   I     B          958\n",
       "sample8  T             F   II    B         1053\n",
       "sample9  F             M   II    P         8674\n",
       "sample10 F             F   I     P         3424\n",
       "sample11 T             M   II    P          463\n",
       "sample12 T             F   II    P         5105"
      ]
     },
     "metadata": {},
     "output_type": "display_data"
    }
   ],
   "source": [
    "#add a column called pre_treatment to the beginning of the dataframe with the values T, F, F, F, T, T, F, T, F, F, T, T (Hint: use cbind()\n",
    "pre_treatment = c(\"T\", \"F\", \"F\", \"F\", \"T\", \"T\", \"F\", \"T\", \"F\", \"F\", \"T\", \"T\")\n",
    "meta <- cbind(pre_treatment, meta)\n",
    "meta"
   ]
  },
  {
   "cell_type": "code",
   "execution_count": 80,
   "metadata": {},
   "outputs": [
    {
     "data": {
      "text/html": [
       "<table>\n",
       "<thead><tr><th></th><th scope=col>A</th><th scope=col>B</th><th scope=col>C</th><th scope=col>D</th></tr></thead>\n",
       "<tbody>\n",
       "\t<tr><th scope=row>sample1</th><td>M   </td><td>I   </td><td>A   </td><td>2343</td></tr>\n",
       "\t<tr><th scope=row>sample2</th><td>F   </td><td>II  </td><td>A   </td><td> 457</td></tr>\n",
       "\t<tr><th scope=row>sample3</th><td>M   </td><td>II  </td><td>A   </td><td>4593</td></tr>\n",
       "\t<tr><th scope=row>sample4</th><td>F   </td><td>I   </td><td>A   </td><td>9035</td></tr>\n",
       "\t<tr><th scope=row>sample5</th><td>M   </td><td>II  </td><td>B   </td><td>3450</td></tr>\n",
       "\t<tr><th scope=row>sample6</th><td>F   </td><td>II  </td><td>B   </td><td>3524</td></tr>\n",
       "\t<tr><th scope=row>sample7</th><td>M   </td><td>I   </td><td>B   </td><td> 958</td></tr>\n",
       "\t<tr><th scope=row>sample8</th><td>F   </td><td>II  </td><td>B   </td><td>1053</td></tr>\n",
       "\t<tr><th scope=row>sample9</th><td>M   </td><td>II  </td><td>P   </td><td>8674</td></tr>\n",
       "\t<tr><th scope=row>sample10</th><td>F   </td><td>I   </td><td>P   </td><td>3424</td></tr>\n",
       "\t<tr><th scope=row>sample11</th><td>M   </td><td>II  </td><td>P   </td><td> 463</td></tr>\n",
       "\t<tr><th scope=row>sample12</th><td>F   </td><td>II  </td><td>P   </td><td>5105</td></tr>\n",
       "</tbody>\n",
       "</table>\n"
      ],
      "text/latex": [
       "\\begin{tabular}{r|llll}\n",
       "  & A & B & C & D\\\\\n",
       "\\hline\n",
       "\tsample1 & M    & I    & A    & 2343\\\\\n",
       "\tsample2 & F    & II   & A    &  457\\\\\n",
       "\tsample3 & M    & II   & A    & 4593\\\\\n",
       "\tsample4 & F    & I    & A    & 9035\\\\\n",
       "\tsample5 & M    & II   & B    & 3450\\\\\n",
       "\tsample6 & F    & II   & B    & 3524\\\\\n",
       "\tsample7 & M    & I    & B    &  958\\\\\n",
       "\tsample8 & F    & II   & B    & 1053\\\\\n",
       "\tsample9 & M    & II   & P    & 8674\\\\\n",
       "\tsample10 & F    & I    & P    & 3424\\\\\n",
       "\tsample11 & M    & II   & P    &  463\\\\\n",
       "\tsample12 & F    & II   & P    & 5105\\\\\n",
       "\\end{tabular}\n"
      ],
      "text/markdown": [
       "\n",
       "| <!--/--> | A | B | C | D |\n",
       "|---|---|---|---|---|\n",
       "| sample1 | M    | I    | A    | 2343 |\n",
       "| sample2 | F    | II   | A    |  457 |\n",
       "| sample3 | M    | II   | A    | 4593 |\n",
       "| sample4 | F    | I    | A    | 9035 |\n",
       "| sample5 | M    | II   | B    | 3450 |\n",
       "| sample6 | F    | II   | B    | 3524 |\n",
       "| sample7 | M    | I    | B    |  958 |\n",
       "| sample8 | F    | II   | B    | 1053 |\n",
       "| sample9 | M    | II   | P    | 8674 |\n",
       "| sample10 | F    | I    | P    | 3424 |\n",
       "| sample11 | M    | II   | P    |  463 |\n",
       "| sample12 | F    | II   | P    | 5105 |\n",
       "\n"
      ],
      "text/plain": [
       "         A B  C D   \n",
       "sample1  M I  A 2343\n",
       "sample2  F II A  457\n",
       "sample3  M II A 4593\n",
       "sample4  F I  A 9035\n",
       "sample5  M II B 3450\n",
       "sample6  F II B 3524\n",
       "sample7  M I  B  958\n",
       "sample8  F II B 1053\n",
       "sample9  M II P 8674\n",
       "sample10 F I  P 3424\n",
       "sample11 M II P  463\n",
       "sample12 F II P 5105"
      ]
     },
     "metadata": {},
     "output_type": "display_data"
    }
   ],
   "source": [
    "#change the names of the columns to: “A”, “B”, “C”, “D”\n",
    "colnames(meta) = c(LETTERS[1:4])\n",
    "meta"
   ]
  },
  {
   "cell_type": "code",
   "execution_count": null,
   "metadata": {},
   "outputs": [],
   "source": []
  }
 ],
 "metadata": {
  "kernelspec": {
   "display_name": "R",
   "language": "R",
   "name": "ir"
  },
  "language_info": {
   "codemirror_mode": "r",
   "file_extension": ".r",
   "mimetype": "text/x-r-source",
   "name": "R",
   "pygments_lexer": "r",
   "version": "3.6.1"
  }
 },
 "nbformat": 4,
 "nbformat_minor": 4
}
