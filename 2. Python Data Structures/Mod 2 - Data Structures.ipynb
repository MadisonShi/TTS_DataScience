{
 "cells": [
  {
   "cell_type": "markdown",
   "metadata": {},
   "source": [
    "# Data Structures"
   ]
  },
  {
   "cell_type": "markdown",
   "metadata": {},
   "source": [
    "## Simple Values\n",
    "\n",
    "\n",
    "[make table here]\n",
    "int x = 1 \n",
    "float x = 2.3 stores fractional numbers\n",
    "complex x = 1 +2j Complex numbers (ie numbers with real and imaginary parts)\n",
    "bool x = True Boolean: True/False values\n",
    "str x = 'abc' String: characters or text\n",
    "NoneType x = None Special obj indicating nulls"
   ]
  },
  {
   "cell_type": "markdown",
   "metadata": {},
   "source": [
    "## Integers\n",
    "\n",
    "Python ints are variable-precision\n",
    "\n",
    "In division, it is a ceiling \n",
    "\n",
    "## Floating-Point Numbers\n",
    "\n",
    "Precision is limited there don't use floating point to do equality tests\n",
    "eg 0.1 + 0.2 == 0.3 is false"
   ]
  },
  {
   "cell_type": "code",
   "execution_count": 3,
   "metadata": {},
   "outputs": [
    {
     "name": "stdout",
     "output_type": "stream",
     "text": [
      "0.1 = 0.10000000000000001\n",
      "0.2 = 0.20000000000000001\n",
      "0.3 = 0.29999999999999999\n"
     ]
    }
   ],
   "source": [
    "print(\"0.1 = {0:.17f}\".format(0.1))\n",
    "print(\"0.2 = {0:.17f}\".format(0.2))\n",
    "print(\"0.3 = {0:.17f}\".format(0.3)) #everything is in base 2"
   ]
  },
  {
   "cell_type": "markdown",
   "metadata": {},
   "source": [
    "## Complex Numbers\n",
    "\n",
    "c = 3 + 4j\n",
    "c.real shows the real part\n",
    "\n",
    "c.imag shows the imaginary part\n",
    "\n",
    "c.conjugate() shows the complex conjugate\n",
    "\n",
    "abs(c) shows the magnitude or the sqrt of c.real ** 2 + c.imag ** 2\n",
    "\n",
    "\n",
    "## String Type\n",
    "\n",
    "Single or double quotes work.\n",
    "\n",
    "len(x) gives length of string\n",
    "\n",
    "x.upper() turns all to upper\n",
    "x.lower() turns all to lower\n",
    "\n",
    "x.capitalize() correct capitalization\n",
    "x.title() does the same?\n",
    "\n",
    "x + y concatenates\n",
    "\n",
    "5 * x concatenates x 5 times\n",
    "\n",
    "x[0] returns char at index (zero-based indexing)\n",
    "\n",
    "\n",
    "## Note Type\n",
    "\n",
    "Nonetypes return None\n",
    "\n",
    "\n",
    "## Boolean Type\n",
    "\n",
    "T/F\n",
    "CASE SENSITIVE - True and False must BE CAPITALIZED\n",
    "\n",
    "Any numeric type is False if equal to 0 and true otherwise\n",
    "0 - false\n",
    "any other value - true\n",
    "\n",
    "None is always false\n",
    "\n",
    "Empty string is false\n",
    "\n",
    "Sequence is false if empty\n",
    "\n",
    "0, None, empty - false\n",
    "\n",
    "\n",
    "\n",
    "# Data Structures\n",
    "\n",
    "List [ 1,2,3] ordered collection\n",
    "Type (1,2,3) immutable ordered collection; cannot be changed\n",
    "Dict {'a': 1, 'b':2} unordered (key,value) mapping\n",
    "Set {1,2,3} Unordered collection of unique values\n",
    "\n",
    "Ordered means that it will always remain in the same order\n",
    "\n",
    "[] indicates ordered\n",
    "() indicated immutable\n",
    "{} indicates unordered\n",
    "\n",
    "\n",
    "## Lists - [ ] \n",
    "\n",
    "len(l) length of list\n",
    "\n",
    "l.append adds value to END\n",
    "\n",
    "l + [1,2,3] concatenates lists; adds to end\n",
    "\n",
    "l.sort() sorts from lowest to highest\n",
    "\n",
    "List can take any object type; is not restricted to 1 type\n",
    "l = [1, \"two\", 3.14, [0,3,5]]\n",
    "\n",
    "\n",
    "### List indexing and slicing\n",
    "\n",
    "access SINGLE ELEMENTS through indexing \n",
    "access MULTIPLE ELEMENTS through slicing\n",
    "\n",
    "l[index]\n",
    "\n",
    "can access end of list w/ neg numbers\n",
    "l[-1] returns last number in list\n",
    "\n",
    "\n",
    "l[0:3] returns INCLUSIVE START and EXCLUSIVE END\n",
    "return l[0], l[1], l[2] but NOT L[3]\n",
    "\n",
    "l[:3] leaving out first value defaults to 0:3\n",
    "\n",
    "l[0:] leaving out the last value defaults to entire length of list\n",
    "\n",
    "l[::2] returns every second element; 2 represents the step element\n",
    "    equivalent to l[0:len(l):2]\n",
    "l[::-1] returns reverse of array\n",
    "\n",
    "use slicing and indexing for setting elements\n",
    "l[0]=100\n",
    "\n",
    "l[1:3]=[55,56]\n",
    "\n",
    "\n",
    "## Tuples - ( ) \n",
    "\n",
    "len(t) returns length\n",
    "\n",
    "t[0] also works\n",
    "\n",
    "Main feature: immutable, cannot be changed size or contents\n",
    "\n",
    "\n",
    "## Dictionaries - { 'a':1 }\n",
    "\n",
    "Maps essentially; unordered so adding items will add anywhere\n",
    "\n",
    "access values via key\n",
    "dict['two']\n",
    "\n",
    "setting new key\n",
    "dict['ninety']=90\n",
    "\n",
    "\n",
    "## Sets - { }\n",
    "\n",
    "Allows to use union, intersection, difference, symmetric diff, etc\n",
    "\n",
    "#### Union\n",
    "primes | odds\n",
    "primes.union(odds)\n",
    "\n",
    "#### Intersections\n",
    "primes & odds\n",
    "primes.intersection(odds)\n",
    "\n",
    "#### Differences: all items in first and not in second\n",
    "primes - odds\n",
    "primes.difference(odds)\n",
    "\n",
    "#### Symmetric difference: all items appearing only in 1 set\n",
    "primes ^ odds\n",
    "primes.symmetric_difference(odds)\n",
    "\n",
    "\n",
    "\n",
    "## More data structures\n",
    "\n",
    "- collections.namedtuple\n",
    "- collections.defaultdic\n",
    "- collections.OrderedDict\n",
    "\n",
    "\n",
    "\n",
    "\n",
    "# Test Questions\n",
    "\n",
    "Python identifiers are case sensitive\n",
    "\n",
    "Variables can start with letter or underscore\n",
    "    can only contain letters, 0-9 number or underscore"
   ]
  },
  {
   "cell_type": "code",
   "execution_count": 6,
   "metadata": {},
   "outputs": [
    {
     "name": "stdout",
     "output_type": "stream",
     "text": [
      "justinjustinjustinjustinjustinjustin\n"
     ]
    }
   ],
   "source": [
    "var = \"justin\" * 2 * 3 # not invalid\n",
    "print(var)"
   ]
  },
  {
   "cell_type": "code",
   "execution_count": 7,
   "metadata": {},
   "outputs": [
    {
     "name": "stdout",
     "output_type": "stream",
     "text": [
      "Marissa's Awesome\n"
     ]
    }
   ],
   "source": [
    "str1 = 'Marissa\\'s Awesome' #use 1 backslash to denote apostrophe\n",
    "print(str1)"
   ]
  },
  {
   "cell_type": "markdown",
   "metadata": {},
   "source": [
    "0xFF is an int bc hexidecimals are also integers"
   ]
  }
 ],
 "metadata": {
  "kernelspec": {
   "display_name": "Python 3",
   "language": "python",
   "name": "python3"
  },
  "language_info": {
   "codemirror_mode": {
    "name": "ipython",
    "version": 3
   },
   "file_extension": ".py",
   "mimetype": "text/x-python",
   "name": "python",
   "nbconvert_exporter": "python",
   "pygments_lexer": "ipython3",
   "version": "3.8.3"
  }
 },
 "nbformat": 4,
 "nbformat_minor": 4
}
